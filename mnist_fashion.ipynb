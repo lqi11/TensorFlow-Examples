{
  "nbformat": 4,
  "nbformat_minor": 0,
  "metadata": {
    "colab": {
      "name": "mnist_fashion.ipynb",
      "provenance": [],
      "include_colab_link": true
    },
    "kernelspec": {
      "name": "python3",
      "display_name": "Python 3"
    }
  },
  "cells": [
    {
      "cell_type": "markdown",
      "metadata": {
        "id": "view-in-github",
        "colab_type": "text"
      },
      "source": [
        "<a href=\"https://colab.research.google.com/github/lqi11/TensorFlow-Examples/blob/master/mnist_fashion.ipynb\" target=\"_parent\"><img src=\"https://colab.research.google.com/assets/colab-badge.svg\" alt=\"Open In Colab\"/></a>"
      ]
    },
    {
      "cell_type": "code",
      "metadata": {
        "id": "SVaM3AXwTZ6A",
        "colab_type": "code",
        "colab": {
          "base_uri": "https://localhost:8080/",
          "height": 36
        },
        "outputId": "17096f1d-4ac2-4c60-d2a3-679d122a43dc"
      },
      "source": [
        "# Note in Colab you can type \"pip install\" directly in the notebook\n",
        "!pip install -q -U tensorflow>=1.8.0\n",
        "import tensorflow as tf\n",
        "import numpy as np\n",
        "import matplotlib.pyplot as plt\n",
        "# Load the fashion-mnist pre-shuffled train data and test data\n",
        "(x_train, y_train), (x_test, y_test) = tf.keras.datasets.fashion_mnist.load_data()\n",
        "print(\"x_train shape:\", x_train.shape, \"y_train shape:\", y_train.shape)"
      ],
      "execution_count": 27,
      "outputs": [
        {
          "output_type": "stream",
          "text": [
            "x_train shape: (60000, 28, 28) y_train shape: (60000,)\n"
          ],
          "name": "stdout"
        }
      ]
    },
    {
      "cell_type": "code",
      "metadata": {
        "id": "sCR-Ovw2ZEEG",
        "colab_type": "code",
        "colab": {}
      },
      "source": [
        "x_train, x_valid = x_train[0:40000], x_train[40000:60000]\n"
      ],
      "execution_count": 0,
      "outputs": []
    },
    {
      "cell_type": "code",
      "metadata": {
        "id": "KX_PYNzbZXzW",
        "colab_type": "code",
        "colab": {}
      },
      "source": [
        "y_train, y_valid = y_train[0:40000], y_train[40000:60000]\n"
      ],
      "execution_count": 0,
      "outputs": []
    },
    {
      "cell_type": "code",
      "metadata": {
        "id": "B8RnwxAvTtKD",
        "colab_type": "code",
        "colab": {}
      },
      "source": [
        "x_train = x_train.astype('float32') / 255\n",
        "x_valid = x_valid.astype('float32')/255\n",
        "x_test = x_test.astype('float32') / 255"
      ],
      "execution_count": 0,
      "outputs": []
    },
    {
      "cell_type": "code",
      "metadata": {
        "id": "oNLMkDVQTy9j",
        "colab_type": "code",
        "colab": {
          "base_uri": "https://localhost:8080/",
          "height": 549
        },
        "outputId": "2fee53b0-a952-4a4a-cdac-19c51a9742d5"
      },
      "source": [
        "model = tf.keras.Sequential()\n",
        "# Must define the input shape in the first layer of the neural network\n",
        "model.add(tf.keras.layers.Conv2D(filters=64, kernel_size=2, padding='same', activation='relu', input_shape=(28,28,1))) \n",
        "model.add(tf.keras.layers.MaxPooling2D(pool_size=2))\n",
        "model.add(tf.keras.layers.Dropout(0.3))\n",
        "model.add(tf.keras.layers.Conv2D(filters=32, kernel_size=2, padding='same', activation='relu'))\n",
        "model.add(tf.keras.layers.MaxPooling2D(pool_size=2))\n",
        "model.add(tf.keras.layers.Dropout(0.3))\n",
        "model.add(tf.keras.layers.Flatten())\n",
        "model.add(tf.keras.layers.Dense(256, activation='relu'))\n",
        "model.add(tf.keras.layers.Dropout(0.5))\n",
        "model.add(tf.keras.layers.Dense(10, activation='softmax'))\n",
        "# Take a look at the model summary\n",
        "model.summary()"
      ],
      "execution_count": 31,
      "outputs": [
        {
          "output_type": "stream",
          "text": [
            "Model: \"sequential_1\"\n",
            "_________________________________________________________________\n",
            "Layer (type)                 Output Shape              Param #   \n",
            "=================================================================\n",
            "conv2d_2 (Conv2D)            (None, 28, 28, 64)        320       \n",
            "_________________________________________________________________\n",
            "max_pooling2d_2 (MaxPooling2 (None, 14, 14, 64)        0         \n",
            "_________________________________________________________________\n",
            "dropout_3 (Dropout)          (None, 14, 14, 64)        0         \n",
            "_________________________________________________________________\n",
            "conv2d_3 (Conv2D)            (None, 14, 14, 32)        8224      \n",
            "_________________________________________________________________\n",
            "max_pooling2d_3 (MaxPooling2 (None, 7, 7, 32)          0         \n",
            "_________________________________________________________________\n",
            "dropout_4 (Dropout)          (None, 7, 7, 32)          0         \n",
            "_________________________________________________________________\n",
            "flatten_1 (Flatten)          (None, 1568)              0         \n",
            "_________________________________________________________________\n",
            "dense_2 (Dense)              (None, 256)               401664    \n",
            "_________________________________________________________________\n",
            "dropout_5 (Dropout)          (None, 256)               0         \n",
            "_________________________________________________________________\n",
            "dense_3 (Dense)              (None, 10)                2570      \n",
            "=================================================================\n",
            "Total params: 412,778\n",
            "Trainable params: 412,778\n",
            "Non-trainable params: 0\n",
            "_________________________________________________________________\n"
          ],
          "name": "stdout"
        }
      ]
    },
    {
      "cell_type": "code",
      "metadata": {
        "id": "ChNna2mdUMfL",
        "colab_type": "code",
        "colab": {}
      },
      "source": [
        "model.compile(loss='sparse_categorical_crossentropy',\n",
        "             optimizer='adam',\n",
        "             metrics=['accuracy'])"
      ],
      "execution_count": 0,
      "outputs": []
    },
    {
      "cell_type": "code",
      "metadata": {
        "id": "stA5Ad6vb-B1",
        "colab_type": "code",
        "colab": {}
      },
      "source": [
        "x_train = x_train.reshape(-1,28, 28, 1)   #Reshape for CNN -  should work!!"
      ],
      "execution_count": 0,
      "outputs": []
    },
    {
      "cell_type": "code",
      "metadata": {
        "id": "9FIcAsStcJL9",
        "colab_type": "code",
        "colab": {}
      },
      "source": [
        "x_valid = x_valid.reshape(-1,28, 28, 1)\n",
        "x_test = x_test.reshape(-1,28, 28, 1)"
      ],
      "execution_count": 0,
      "outputs": []
    },
    {
      "cell_type": "code",
      "metadata": {
        "id": "sibLugeoUQVE",
        "colab_type": "code",
        "colab": {
          "base_uri": "https://localhost:8080/",
          "height": 435
        },
        "outputId": "f938e9d1-3346-46e2-acd8-8624e40281e2"
      },
      "source": [
        "model.fit(x_train,\n",
        "         y_train,\n",
        "         batch_size=64,\n",
        "         epochs=10,\n",
        "         validation_data=(x_valid, y_valid),\n",
        "         callbacks=None)"
      ],
      "execution_count": 42,
      "outputs": [
        {
          "output_type": "stream",
          "text": [
            "Train on 40000 samples, validate on 20000 samples\n",
            "Epoch 1/10\n",
            "40000/40000 [==============================] - 60s 1ms/sample - loss: 0.6551 - accuracy: 0.7585 - val_loss: 0.4149 - val_accuracy: 0.8519\n",
            "Epoch 2/10\n",
            "40000/40000 [==============================] - 60s 1ms/sample - loss: 0.4385 - accuracy: 0.8419 - val_loss: 0.3511 - val_accuracy: 0.8718\n",
            "Epoch 3/10\n",
            "40000/40000 [==============================] - 60s 1ms/sample - loss: 0.3899 - accuracy: 0.8581 - val_loss: 0.3248 - val_accuracy: 0.8820\n",
            "Epoch 4/10\n",
            "40000/40000 [==============================] - 59s 1ms/sample - loss: 0.3598 - accuracy: 0.8698 - val_loss: 0.3060 - val_accuracy: 0.8891\n",
            "Epoch 5/10\n",
            "40000/40000 [==============================] - 60s 1ms/sample - loss: 0.3373 - accuracy: 0.8756 - val_loss: 0.2859 - val_accuracy: 0.8970\n",
            "Epoch 6/10\n",
            "40000/40000 [==============================] - 59s 1ms/sample - loss: 0.3235 - accuracy: 0.8813 - val_loss: 0.2746 - val_accuracy: 0.9017\n",
            "Epoch 7/10\n",
            "40000/40000 [==============================] - 59s 1ms/sample - loss: 0.3064 - accuracy: 0.8886 - val_loss: 0.2637 - val_accuracy: 0.9054\n",
            "Epoch 8/10\n",
            "40000/40000 [==============================] - 61s 2ms/sample - loss: 0.2956 - accuracy: 0.8908 - val_loss: 0.2596 - val_accuracy: 0.9036\n",
            "Epoch 9/10\n",
            "40000/40000 [==============================] - 62s 2ms/sample - loss: 0.2850 - accuracy: 0.8938 - val_loss: 0.2592 - val_accuracy: 0.9055\n",
            "Epoch 10/10\n",
            "40000/40000 [==============================] - 61s 2ms/sample - loss: 0.2751 - accuracy: 0.8981 - val_loss: 0.2503 - val_accuracy: 0.9097\n"
          ],
          "name": "stdout"
        },
        {
          "output_type": "execute_result",
          "data": {
            "text/plain": [
              "<tensorflow.python.keras.callbacks.History at 0x7fe1a7873c88>"
            ]
          },
          "metadata": {
            "tags": []
          },
          "execution_count": 42
        }
      ]
    },
    {
      "cell_type": "code",
      "metadata": {
        "id": "Ac-mgnIqgX5v",
        "colab_type": "code",
        "colab": {
          "base_uri": "https://localhost:8080/",
          "height": 55
        },
        "outputId": "f5555c17-d255-4946-970b-e05a66016a27"
      },
      "source": [
        "# Evaluate the model on test set\n",
        "score = model.evaluate(x_test, y_test, verbose=0)\n",
        "# Print test accuracy\n",
        "print('\\n', 'Test accuracy:', score[1])"
      ],
      "execution_count": 43,
      "outputs": [
        {
          "output_type": "stream",
          "text": [
            "\n",
            " Test accuracy: 0.9055\n"
          ],
          "name": "stdout"
        }
      ]
    },
    {
      "cell_type": "code",
      "metadata": {
        "id": "Q8EZ5VQpghKN",
        "colab_type": "code",
        "colab": {
          "base_uri": "https://localhost:8080/",
          "height": 625
        },
        "outputId": "05f3562a-527e-4b5f-89d4-db11aef94c59"
      },
      "source": [
        "model2 = tf.keras.Sequential()\n",
        "# Must define the input shape in the first layer of the neural network\n",
        "model2.add(tf.keras.layers.Conv2D(filters=128, kernel_size=2, padding='same', activation='relu', input_shape=(28,28,1))) \n",
        "model2.add(tf.keras.layers.MaxPooling2D(pool_size=2))\n",
        "model2.add(tf.keras.layers.Dropout(0.5))\n",
        "model2.add(tf.keras.layers.Conv2D(filters=32, kernel_size=2, padding='same', activation='relu'))\n",
        "model2.add(tf.keras.layers.MaxPooling2D(pool_size=2))\n",
        "model2.add(tf.keras.layers.Dropout(0.5))\n",
        "model2.add(tf.keras.layers.Flatten())\n",
        "model2.add(tf.keras.layers.Dense(256, activation='relu'))\n",
        "model2.add(tf.keras.layers.Dropout(0.5))\n",
        "model2.add(tf.keras.layers.Dense(256, activation='elu'))\n",
        "model2.add(tf.keras.layers.Dropout(0.5))\n",
        "model2.add(tf.keras.layers.Dense(10, activation='softmax'))\n",
        "\n",
        "# Take a look at the model summary\n",
        "model2.summary()"
      ],
      "execution_count": 44,
      "outputs": [
        {
          "output_type": "stream",
          "text": [
            "Model: \"sequential_2\"\n",
            "_________________________________________________________________\n",
            "Layer (type)                 Output Shape              Param #   \n",
            "=================================================================\n",
            "conv2d_4 (Conv2D)            (None, 28, 28, 128)       640       \n",
            "_________________________________________________________________\n",
            "max_pooling2d_4 (MaxPooling2 (None, 14, 14, 128)       0         \n",
            "_________________________________________________________________\n",
            "dropout_6 (Dropout)          (None, 14, 14, 128)       0         \n",
            "_________________________________________________________________\n",
            "conv2d_5 (Conv2D)            (None, 14, 14, 32)        16416     \n",
            "_________________________________________________________________\n",
            "max_pooling2d_5 (MaxPooling2 (None, 7, 7, 32)          0         \n",
            "_________________________________________________________________\n",
            "dropout_7 (Dropout)          (None, 7, 7, 32)          0         \n",
            "_________________________________________________________________\n",
            "flatten_2 (Flatten)          (None, 1568)              0         \n",
            "_________________________________________________________________\n",
            "dense_4 (Dense)              (None, 256)               401664    \n",
            "_________________________________________________________________\n",
            "dropout_8 (Dropout)          (None, 256)               0         \n",
            "_________________________________________________________________\n",
            "dense_5 (Dense)              (None, 256)               65792     \n",
            "_________________________________________________________________\n",
            "dropout_9 (Dropout)          (None, 256)               0         \n",
            "_________________________________________________________________\n",
            "dense_6 (Dense)              (None, 10)                2570      \n",
            "=================================================================\n",
            "Total params: 487,082\n",
            "Trainable params: 487,082\n",
            "Non-trainable params: 0\n",
            "_________________________________________________________________\n"
          ],
          "name": "stdout"
        }
      ]
    },
    {
      "cell_type": "code",
      "metadata": {
        "id": "ahkMgt80ghRz",
        "colab_type": "code",
        "colab": {}
      },
      "source": [
        "model2.compile(loss='sparse_categorical_crossentropy',\n",
        "             optimizer='adam',\n",
        "             metrics=['accuracy'])"
      ],
      "execution_count": 0,
      "outputs": []
    },
    {
      "cell_type": "code",
      "metadata": {
        "id": "CwipL-kxghVd",
        "colab_type": "code",
        "colab": {
          "base_uri": "https://localhost:8080/",
          "height": 435
        },
        "outputId": "3c8fb9a3-9631-4042-8f56-fce3fdd5f30e"
      },
      "source": [
        "model2.fit(x_train,\n",
        "         y_train,\n",
        "         batch_size=64,\n",
        "         epochs=10,\n",
        "         validation_data=(x_valid, y_valid),\n",
        "         callbacks=None)"
      ],
      "execution_count": 47,
      "outputs": [
        {
          "output_type": "stream",
          "text": [
            "Train on 40000 samples, validate on 20000 samples\n",
            "Epoch 1/10\n",
            "40000/40000 [==============================] - 105s 3ms/sample - loss: 0.7592 - accuracy: 0.7149 - val_loss: 0.4468 - val_accuracy: 0.8325\n",
            "Epoch 2/10\n",
            "40000/40000 [==============================] - 100s 2ms/sample - loss: 0.5157 - accuracy: 0.8108 - val_loss: 0.3863 - val_accuracy: 0.8569\n",
            "Epoch 3/10\n",
            "40000/40000 [==============================] - 98s 2ms/sample - loss: 0.4493 - accuracy: 0.8356 - val_loss: 0.3505 - val_accuracy: 0.8710\n",
            "Epoch 4/10\n",
            "40000/40000 [==============================] - 99s 2ms/sample - loss: 0.4175 - accuracy: 0.8480 - val_loss: 0.3217 - val_accuracy: 0.8823\n",
            "Epoch 5/10\n",
            "40000/40000 [==============================] - 99s 2ms/sample - loss: 0.3980 - accuracy: 0.8548 - val_loss: 0.3048 - val_accuracy: 0.8881\n",
            "Epoch 6/10\n",
            "40000/40000 [==============================] - 99s 2ms/sample - loss: 0.3827 - accuracy: 0.8586 - val_loss: 0.2974 - val_accuracy: 0.8881\n",
            "Epoch 7/10\n",
            "40000/40000 [==============================] - 98s 2ms/sample - loss: 0.3704 - accuracy: 0.8625 - val_loss: 0.2841 - val_accuracy: 0.8943\n",
            "Epoch 8/10\n",
            "40000/40000 [==============================] - 101s 3ms/sample - loss: 0.3602 - accuracy: 0.8675 - val_loss: 0.2804 - val_accuracy: 0.8962\n",
            "Epoch 9/10\n",
            "40000/40000 [==============================] - 102s 3ms/sample - loss: 0.3473 - accuracy: 0.8734 - val_loss: 0.2788 - val_accuracy: 0.8967\n",
            "Epoch 10/10\n",
            "40000/40000 [==============================] - 102s 3ms/sample - loss: 0.3416 - accuracy: 0.8737 - val_loss: 0.2734 - val_accuracy: 0.8981\n"
          ],
          "name": "stdout"
        },
        {
          "output_type": "execute_result",
          "data": {
            "text/plain": [
              "<tensorflow.python.keras.callbacks.History at 0x7fe1a67ec9e8>"
            ]
          },
          "metadata": {
            "tags": []
          },
          "execution_count": 47
        }
      ]
    },
    {
      "cell_type": "code",
      "metadata": {
        "id": "99XIGHdAghZ0",
        "colab_type": "code",
        "colab": {
          "base_uri": "https://localhost:8080/",
          "height": 55
        },
        "outputId": "0ccbe1f3-961c-4938-8a14-f42eb838a600"
      },
      "source": [
        "# Evaluate the model on test set\n",
        "score = model2.evaluate(x_test, y_test, verbose=0)\n",
        "# Print test accuracy\n",
        "print('\\n', 'Test accuracy:', score[1])"
      ],
      "execution_count": 48,
      "outputs": [
        {
          "output_type": "stream",
          "text": [
            "\n",
            " Test accuracy: 0.8915\n"
          ],
          "name": "stdout"
        }
      ]
    }
  ]
}